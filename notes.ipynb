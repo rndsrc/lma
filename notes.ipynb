{
 "cells": [
  {
   "cell_type": "markdown",
   "id": "0",
   "metadata": {},
   "source": [
    "[![Open In Colab](https://colab.research.google.com/assets/colab-badge.svg)](https://colab.research.google.com/github/rndsrc/lma/blob/main/notes.ipynb)"
   ]
  },
  {
   "cell_type": "markdown",
   "id": "1",
   "metadata": {},
   "source": [
    "# Linear Mode Analysis"
   ]
  },
  {
   "cell_type": "markdown",
   "id": "2",
   "metadata": {},
   "source": [
    "Linear mode analysis (LMA) linearizes system of non-linear equations, including PDEs, to enable study of their stability properties."
   ]
  },
  {
   "cell_type": "markdown",
   "id": "3",
   "metadata": {},
   "source": [
    "## Linearized Equations \n",
    "\n",
    "We consider a system of PDEs, which may include some constrain equations and some source terms.\n",
    "We first use the constrain equations to reduce the system to $n$ dynamic PDEs.\n",
    "We also solve the zeroth-order \"unperturbed\" state self-consistently.\n",
    "Unless the source terms are themselves small, the linearized equations then must take a form:\n",
    "\\begin{align}\n",
    "  \\partial_t\\,\\boldsymbol{\\delta}(t, \\boldsymbol{x}) = \\boldsymbol{L}(t, \\boldsymbol{x}, \\boldsymbol\\nabla)\\,\\boldsymbol{\\delta}(t, \\boldsymbol{x})\n",
    "\\end{align}\n",
    "where perturbation $\\boldsymbol{\\delta}$ is an $n$-dimensional vector\n",
    "\\begin{align}\n",
    "  \\boldsymbol{\\delta} = \n",
    "  \\begin{bmatrix}\n",
    "  \\delta_1(t, \\boldsymbol{x}) \\\\ \\delta_2(t, \\boldsymbol{x}) \\\\ \\vdots \\\\ \\delta_n(t, \\boldsymbol{x})\n",
    "  \\end{bmatrix}.\n",
    "\\end{align}"
   ]
  },
  {
   "cell_type": "markdown",
   "id": "4",
   "metadata": {},
   "source": [
    "The explicitly dependence of matrix $\\boldsymbol{L}$ on $\\boldsymbol\\nabla$ indicates that it may contain partial derivatives of the spatial coordinates on the perturbation.\n",
    "It may contian partial derivatives of the background too, e.g., $\\boldsymbol\\nabla\\boldsymbol{U}$.\n",
    "However, these terms are fixed as we perform the perturbation analysis, and are included in the $\\boldsymbol{x}$ dependence."
   ]
  },
  {
   "cell_type": "markdown",
   "id": "5",
   "metadata": {},
   "source": [
    "## Stability Analysis\n",
    "\n",
    "When $\\boldsymbol{L}$ is independent of time $t$ (e.g., by considering a steady state background solution), one can decompose the perturbation $\\boldsymbol{\\delta}$ into Fourier series:\n",
    "\\begin{align}\n",
    "  \\partial_t\\,\\boldsymbol{\\delta}(t, \\boldsymbol{x}) = \\sum_\\omega \\boldsymbol{\\hat\\delta}_\\omega(\\boldsymbol{x}) \\exp(i\\omega t)\n",
    "\\end{align}\n",
    "It is useful to also define $\\gamma \\equiv i\\omega$ so that the linearized equations become\n",
    "\\begin{align}\n",
    "  \\gamma\\,\\boldsymbol{\\hat\\delta}_\\gamma(\\boldsymbol{x}) = \\boldsymbol{L}(\\boldsymbol{x}, \\boldsymbol\\nabla)\\,\\boldsymbol{\\hat\\delta}_\\gamma(\\boldsymbol{x})\n",
    "\\end{align}"
   ]
  },
  {
   "cell_type": "markdown",
   "id": "6",
   "metadata": {},
   "source": [
    "This is a standard eigenvalue problem that can be solved by $\\det(\\boldsymbol{L} - \\gamma \\boldsymbol{1}) = 0$.\n",
    "Because the determinant is an $n$-order polynomial in $\\gamma$, i.e.,\n",
    "\\begin{align}\n",
    "  \\det(\\boldsymbol{L} - \\gamma \\boldsymbol{1}) = P^n(\\gamma) = \\sum_{j=1}^n C_j(\\boldsymbol{x}, \\boldsymbol\\nabla) \\gamma^j\n",
    "\\end{align}\n",
    "there are $n$ (complex) roots, corresponding to unstable (if at least one of the eigenvalues $\\gamma_j$ is real and positive), overstable ($\\gamma_j$ is complex with positive real part), and stable (no eigenvalue has positive real part) modes."
   ]
  },
  {
   "cell_type": "markdown",
   "id": "7",
   "metadata": {},
   "source": [
    "Clearly, if $\\boldsymbol{L}$ depends on time $t$, the above Fourier decomposition no longer provides such a simple form.\n",
    "There are two options:\n",
    "1. Keep using simple basis function such as $\\exp(i\\omega t)$ or $\\delta(t-t_i)$ but consider a non-diagonal $\\boldsymbol{\\hat L}$.\n",
    "   This implies there will be \"mode-to-mode coupling\".\n",
    "2. Solve proper eigenfunctions/eigenbases in time so each mode still evolve independently from each other.\n",
    "   \n",
    "These two methods are mathematically the same, although numerically, method 1 may be easier."
   ]
  },
  {
   "cell_type": "markdown",
   "id": "8",
   "metadata": {},
   "source": [
    "## Symmetry of the Background\n",
    "\n",
    "In addition to consider steady state background, there may be other symmetry that reduces the dependencies of $\\boldsymbol{L}$ on spatial coordinates.\n",
    "For example, in spherical symmetric systems, one may remove $\\phi$- and $\\theta$-dependencies so $\\boldsymbol{L}(\\boldsymbol{x}, \\boldsymbol\\nabla) = \\boldsymbol{L}(r, \\boldsymbol\\nabla)$;\n",
    "in plane-parallel atmosphere, one may remove $x$- and $y$-dependencies so $\\boldsymbol{L}(\\boldsymbol{x}, \\boldsymbol\\nabla) = \\boldsymbol{L}(z, \\boldsymbol\\nabla)$."
   ]
  },
  {
   "cell_type": "markdown",
   "id": "9",
   "metadata": {},
   "source": [
    "In these cases, it is useful to borrow the idea from Noether and define \"conserved momenta\" as $\\boldsymbol\\nabla_{\\!\\text{c}}$ where $\\boldsymbol\\nabla_{\\!\\text{c}} L(\\boldsymbol{x}, \\boldsymbol\\nabla) = 0$.\n",
    "The linear operator can be rewritten as $L(\\boldsymbol{x}_\\text{d}, \\boldsymbol\\nabla_{\\!\\text{d}}, \\boldsymbol\\nabla_{\\!\\text{c}})$.\n",
    "We can then decompose the perturbation $\\boldsymbol{\\hat\\delta}_\\gamma(\\boldsymbol{x})$ into eigenmodes of $\\boldsymbol\\nabla_{\\!\\text{c}}$, i.e,\n",
    "\\begin{align}\n",
    "  \\boldsymbol{\\hat\\delta}_\\gamma(\\boldsymbol{x}) = \\sum_{\\boldsymbol{k}} \\boldsymbol{\\hat\\delta}_{\\gamma\\boldsymbol{k}}(\\boldsymbol{x}_\\text{d})\\,\\psi_{\\boldsymbol{k}}(\\boldsymbol{x}_\\text{c}).\n",
    "\\end{align}"
   ]
  },
  {
   "cell_type": "markdown",
   "id": "10",
   "metadata": {},
   "source": [
    "The perturbation equations become:\n",
    "\\begin{align}\n",
    "  \\gamma\\,\\boldsymbol{\\hat\\delta}_{\\gamma\\boldsymbol{k}}(\\boldsymbol{x}) = \\boldsymbol{L}_\\boldsymbol{k}(\\boldsymbol{x}_\\text{d}, \\boldsymbol\\nabla_{\\!\\text{d}})\\,\\boldsymbol{\\hat\\delta}_{\\gamma\\boldsymbol{k}}(\\boldsymbol{x})\n",
    "\\end{align}\n",
    "\n",
    "This is the best simplification we can make!\n",
    "To solve $\\boldsymbol{x}_\\text{d}$ dependence, one may follow the two strategies mentioned above for the time-dependent system.\n",
    "In fact, the time-independent case is nothing but a special symmetrey!"
   ]
  },
  {
   "cell_type": "markdown",
   "id": "11",
   "metadata": {},
   "source": [
    "## Example: Rayleigh Taylor Instability\n",
    "\n",
    "The Rayleigh Taylor Instability (RTI) is a great example to see our formulation in action."
   ]
  },
  {
   "cell_type": "markdown",
   "id": "12",
   "metadata": {},
   "source": [
    "We follow Chandrasekhar's derivation but use our own notation.\n",
    "Without loss of generality, we consider only two dimension $x$ and $z$.\n",
    "We also start with the inviscid regime.\n",
    "\n",
    "We consider the perturbation:\n",
    "\\begin{align}\n",
    "  \\rho(t, x, z)           &= \\bar{\\rho}(z) + \\delta\\rho(t, x, z) \\\\\n",
    "  \\boldsymbol{u}(t, x, z) &= 0             + \\delta\\boldsymbol{u}(t, x, z) \\\\\n",
    "  P(t, x, z)              &= \\bar{P}(z)    + \\delta P(t, x, z)\n",
    "\\end{align}"
   ]
  },
  {
   "cell_type": "markdown",
   "id": "13",
   "metadata": {},
   "source": [
    "The continuity equation, momentum equations, and divergenceless conditions to first order are:\n",
    "\\begin{align}\n",
    "              \\partial_t \\delta\\rho &= -\\bar{\\rho}' \\delta u_z              \\\\\n",
    "  \\bar{\\rho}\\,\\partial_t \\delta u_x &= -\\partial_x  \\delta P                \\\\\n",
    "  \\bar{\\rho}\\,\\partial_t \\delta u_z &= -\\partial_z  \\delta P - g\\,\\delta\\rho \\\\\n",
    "                         0          &=  \\partial_x  \\delta u_x + \\partial_z  \\delta u_z\n",
    "\\end{align}\n",
    "where $\\bar{\\rho}' \\equiv d\\bar{\\rho}/dz$."
   ]
  },
  {
   "cell_type": "markdown",
   "id": "14",
   "metadata": {},
   "source": [
    "In matrix notation,\n",
    "\\begin{align}\n",
    "\\partial_t\n",
    "\\begin{bmatrix}\\delta\\rho\\\\ \\delta u_x\\\\ \\delta u_z\\\\ 0\\end{bmatrix}\n",
    "= \n",
    "\\begin{bmatrix}\n",
    "  0            & 0          & -\\bar{\\rho}' &  0          \\\\\n",
    "  0            & 0          &  0           & -(1/\\bar{\\rho})\\partial_x \\\\\n",
    " -g/\\bar{\\rho} & 0          &  0           & -(1/\\bar{\\rho})\\partial_z \\\\\n",
    "  0            & \\partial_x &  \\partial_z  &  0\n",
    "\\end{bmatrix}\n",
    "\\begin{bmatrix}\\delta\\rho\\\\ \\delta u_x\\\\ \\delta u_z\\\\ \\delta P\\end{bmatrix}.\n",
    "\\end{align}"
   ]
  },
  {
   "cell_type": "markdown",
   "id": "15",
   "metadata": {},
   "source": [
    "Given $\\boldsymbol{L}$ depends only $z$, we can consider the eigenmodes $\\exp(\\gamma\\,t + i k_x x)$ and rewrite the above matrix equation as\n",
    "\\begin{align}\n",
    "\\gamma\n",
    "\\begin{bmatrix}\\delta\\hat{\\rho}\\\\ \\delta \\hat{u}_x\\\\ \\delta \\hat{u}_z\\\\ 0\\end{bmatrix}\n",
    "= \n",
    "\\begin{bmatrix}\n",
    "  0            & 0     & -\\bar{\\rho}' &  0                     \\\\\n",
    "  0            & 0     &  0           & -i k_x     /\\bar{\\rho} \\\\\n",
    " -g/\\bar{\\rho} & 0     &  0           & -\\partial_z/\\bar{\\rho} \\\\\n",
    "  0            & i k_x &  \\partial_z  &  0\n",
    "\\end{bmatrix}\n",
    "\\begin{bmatrix}\\delta\\hat{\\rho}\\\\ \\delta\\hat{u}_x\\\\ \\delta\\hat{u}_z\\\\ \\delta\\hat{P}\\end{bmatrix},\n",
    "\\end{align}\n",
    "where we drop the subscriptions $\\gamma k_x$ for $\\delta\\hat{\\rho}_{\\gamma k_x}(z)$, etc. "
   ]
  },
  {
   "cell_type": "markdown",
   "id": "16",
   "metadata": {},
   "source": [
    "Let\n",
    "\\begin{align}\n",
    "\\beta(z) \\equiv \\frac{\\bar{\\rho}'(z)}{\\bar{\\rho}(z)} = \\frac{d\\ln\\bar{\\rho}(z)}{dz},\n",
    "\\end{align}\n",
    "It is straightforward to eliminate $\\delta\\hat{\\rho}$, $\\delta\\hat{u}_x$, and $\\delta\\hat{P}$,\n",
    "\\begin{align}\n",
    "  \\{\\gamma^2 [\\partial_z^2 + \\beta(z)\\partial_z - k_x^2] + g k_x^2 \\beta(z)\\}\\delta\\hat{u}_z(z) = 0,\n",
    "\\end{align}\n",
    "which is identical to equation (X.57) in Chandrasekhar."
   ]
  },
  {
   "cell_type": "markdown",
   "id": "17",
   "metadata": {},
   "source": [
    "Use $1/k_x$ as the length scale and $(g\\,k_x)^{-1/2}$ as the time scale.\n",
    "The velocity scale is $(g/k_x)^{1/2}$.\n",
    "We may rewrite the dimensionless coordinate, growth rate, and velocity as $\\tilde{z}$, $\\tilde\\gamma$, and $\\delta\\tilde{u}_{\\tilde{z}}(\\tilde{z})$.\n",
    "The above equation becomes:\n",
    "\\begin{align}\n",
    "  \\{\\tilde\\gamma^2 [\\partial_{\\tilde{z}}^2 + \\beta(\\tilde{z})\\partial_{\\tilde{z}} - 1] +  \\beta({\\tilde{z}})\\}\\delta\\tilde{u}_{\\tilde{z}}(\\tilde{z}) = 0.\n",
    "\\end{align}"
   ]
  },
  {
   "cell_type": "markdown",
   "id": "18",
   "metadata": {},
   "source": [
    "For simplicity, let's drop all the $\\tilde{\\ }$:\n",
    "\\begin{align}\n",
    "  \\{\\gamma^2 [\\partial_z^2 + \\beta(z)\\partial_z - 1] +  \\beta(z)\\}\\delta u_z(z) = 0.\n",
    "\\end{align}"
   ]
  },
  {
   "cell_type": "markdown",
   "id": "19",
   "metadata": {},
   "source": [
    "### Analytical Solution\n",
    "\n",
    "When $\\beta(z)$ and hance $\\rho(z)$ are chosen appropriately, this equation has an interesting non-trivial solution:\n",
    "\\begin{align}\n",
    "  \\delta u_z(z) &\\propto \\frac{1}{\\cosh(z)} = \\mathrm{sech}(z)\\\\\n",
    "  \\beta(z)      &= \\frac{2 \\gamma^2\\,\\mathrm{sech}(z)^2}{1 - \\gamma^2\\tanh(z)} \\\\\n",
    "  \\rho(z)       &= \\frac{1}{[1-\\gamma^2 \\tanh(z)]^{2}}\n",
    "\\end{align}"
   ]
  },
  {
   "cell_type": "markdown",
   "id": "20",
   "metadata": {},
   "source": [
    "To visualize this result:"
   ]
  },
  {
   "cell_type": "code",
   "execution_count": null,
   "id": "21",
   "metadata": {},
   "outputs": [],
   "source": [
    "import jax\n",
    "jax.config.update(\"jax_enable_x64\", True)"
   ]
  },
  {
   "cell_type": "code",
   "execution_count": null,
   "id": "22",
   "metadata": {},
   "outputs": [],
   "source": [
    "from jax import numpy as np, grad, vmap, jit\n",
    "from matplotlib import pyplot as plt"
   ]
  },
  {
   "cell_type": "code",
   "execution_count": null,
   "id": "23",
   "metadata": {},
   "outputs": [],
   "source": [
    "def duz(z):\n",
    "    return 1 / (2*np.cosh(z))\n",
    "\n",
    "def beta(z, gamma=0.5):\n",
    "    return 2 * (gamma / (np.cosh(z) - gamma**2 * np.sinh(z)))**2\n",
    "\n",
    "def rho(z, gamma=0.5):\n",
    "    return 1 / (1 - gamma**2 * np.tanh(z))**2"
   ]
  },
  {
   "cell_type": "code",
   "execution_count": null,
   "id": "24",
   "metadata": {},
   "outputs": [],
   "source": [
    "Z = np.linspace(-10, 10, 2001)\n",
    "\n",
    "rhoL  = rho(Z[0])\n",
    "rhoU  = rho(Z[-1])\n",
    "gamma = np.sqrt(rhoU-rhoL)/(rhoU+rhoL)\n",
    "\n",
    "print(f'Growth rate: {gamma:.4f}')"
   ]
  },
  {
   "cell_type": "code",
   "execution_count": null,
   "id": "25",
   "metadata": {},
   "outputs": [],
   "source": [
    "fig, (ax0, ax1) = plt.subplots(2,1,figsize=(6,6), sharex=True)\n",
    "\n",
    "ax0.plot(Z, duz(Z))\n",
    "ax0.plot(Z, np.exp( Z), ':')\n",
    "ax0.plot(Z, np.exp(-Z), ':')\n",
    "ax0.set_xlabel(r'$z$')\n",
    "ax0.set_ylabel(r'$\\delta u_z(z)$')\n",
    "ax0.set_yscale('log')\n",
    "ax0.set_ylim(None, 2)\n",
    "\n",
    "ax1.plot(Z, rho(Z),  label=r'$\\rho(z)$')\n",
    "ax1.plot(Z, beta(Z), label=r'$\\beta(z)$')\n",
    "ax1.plot(Z, vmap(grad(rho))(Z)/rho(Z), '--', label=r'Autodiff $\\beta(z)$')\n",
    "ax1.set_xlabel(r'$z$')\n",
    "ax1.legend()\n",
    "\n",
    "fig.tight_layout()"
   ]
  }
 ],
 "metadata": {
  "kernelspec": {
   "display_name": "Python 3 (ipykernel)",
   "language": "python",
   "name": "python3"
  },
  "language_info": {
   "codemirror_mode": {
    "name": "ipython",
    "version": 3
   },
   "file_extension": ".py",
   "mimetype": "text/x-python",
   "name": "python",
   "nbconvert_exporter": "python",
   "pygments_lexer": "ipython3",
   "version": "3.13.2"
  }
 },
 "nbformat": 4,
 "nbformat_minor": 5
}
