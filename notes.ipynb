{
 "cells": [
  {
   "cell_type": "markdown",
   "id": "0",
   "metadata": {},
   "source": [
    "[![Open In Colab](https://colab.research.google.com/assets/colab-badge.svg)](https://colab.research.google.com/github/rndsrc/lma/blob/main/notes.ipynb)"
   ]
  },
  {
   "cell_type": "markdown",
   "id": "1",
   "metadata": {},
   "source": [
    "# Linear Mode Analysis"
   ]
  },
  {
   "cell_type": "markdown",
   "id": "2",
   "metadata": {},
   "source": [
    "Linear mode analysis (LMA) linearizes system of non-linear equations, including PDEs, to enable study of their stability properties."
   ]
  },
  {
   "cell_type": "markdown",
   "id": "3",
   "metadata": {},
   "source": [
    "## Linearized Equations \n",
    "\n",
    "For a system of $n$ PDEs, the linearized equations take a form:\n",
    "\\begin{align}\n",
    "  \\partial_t\\,\\boldsymbol{\\delta}(t, \\boldsymbol{x}) = \\boldsymbol{L}(t, \\boldsymbol{x}, \\boldsymbol\\nabla)\\,\\boldsymbol{\\delta}(t, \\boldsymbol{x})\n",
    "\\end{align}\n",
    "where perturbation $\\boldsymbol{\\delta}$ is an $n$-dimensional vector\n",
    "\\begin{align}\n",
    "  \\boldsymbol{\\delta} = \n",
    "  \\begin{bmatrix}\n",
    "  \\delta_1(t, \\boldsymbol{x}) \\\\ \\delta_2(t, \\boldsymbol{x}) \\\\ \\vdots \\\\ \\delta_n(t, \\boldsymbol{x})\n",
    "  \\end{bmatrix}\n",
    "\\end{align}\n",
    "and $\\boldsymbol{L}$ is an $n\\times n$ matrix.\n",
    "Its dependence on $\\boldsymbol\\nabla$ indicate that it may contain partial derivatives of the spatial coordinates."
   ]
  },
  {
   "cell_type": "markdown",
   "id": "4",
   "metadata": {},
   "source": [
    "## Stability Analysis\n",
    "\n",
    "When $\\boldsymbol{L}$ is independent of time $t$, one can decompose the perturbation $\\boldsymbol{\\delta}$ into Fourier series:\n",
    "\\begin{align}\n",
    "  \\partial_t\\,\\boldsymbol{\\delta}(t, \\boldsymbol{x}) = \\sum_\\omega \\boldsymbol{\\hat\\delta}_\\omega(\\boldsymbol{x}) \\exp(i\\omega t)\n",
    "\\end{align}\n",
    "It is useful to also define $\\gamma \\equiv i\\omega$ so that the linearized equations become\n",
    "\\begin{align}\n",
    "  \\gamma\\,\\boldsymbol{\\hat\\delta}_\\gamma(\\boldsymbol{x}) = \\boldsymbol{L}(\\boldsymbol{x}, \\boldsymbol\\nabla)\\,\\boldsymbol{\\hat\\delta}_\\gamma(\\boldsymbol{x})\n",
    "\\end{align}"
   ]
  },
  {
   "cell_type": "markdown",
   "id": "5",
   "metadata": {},
   "source": [
    "Clearly, this is an eigenvalue problem that can be solved by\n",
    "\\begin{align}\n",
    "  \\det(\\boldsymbol{L} - \\gamma \\boldsymbol{1}) = 0.\n",
    "\\end{align}\n",
    "Because the determinant is an $n$-order polynomial in $\\gamma$, i.e.,\n",
    "\\begin{align}\n",
    "  \\det(\\boldsymbol{L} - \\gamma \\boldsymbol{1}) = P^n(\\gamma) = \\sum_{j=1}^n C_j(\\boldsymbol{x}, \\boldsymbol\\nabla) \\gamma^j\n",
    "\\end{align}\n",
    "there are $n$ (complex) roots, corresponding to unstable (if at least one of the eigenvalues $\\gamma_j$ is real and positive), overstable ($\\gamma_j$ is complex with positive real part), and stable (no eigenvalue has positive real part)."
   ]
  },
  {
   "cell_type": "markdown",
   "id": "6",
   "metadata": {},
   "source": [
    "Clearly, if $\\boldsymbol{L}$ depends on time $t$, the above Fourier decomposition is no longer possible.\n",
    "There are two options:\n",
    "1. Keep using simple basis function such as $\\exp(i\\omega t)$ but consider a non-diagonal $\\boldsymbol{\\hat L}$.\n",
    "   This implies there will be \"mode-to-mode coupling\".\n",
    "2. Solve proper basis in time so each mode still evolve independently from each other.\n",
    "These two methods are mathematically the same, although numerically 1. may be easier."
   ]
  }
 ],
 "metadata": {
  "kernelspec": {
   "display_name": "Python 3 (ipykernel)",
   "language": "python",
   "name": "python3"
  },
  "language_info": {
   "codemirror_mode": {
    "name": "ipython",
    "version": 3
   },
   "file_extension": ".py",
   "mimetype": "text/x-python",
   "name": "python",
   "nbconvert_exporter": "python",
   "pygments_lexer": "ipython3",
   "version": "3.13.2"
  }
 },
 "nbformat": 4,
 "nbformat_minor": 5
}
