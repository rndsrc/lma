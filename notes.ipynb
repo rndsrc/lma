{
 "cells": [
  {
   "cell_type": "markdown",
   "id": "0",
   "metadata": {},
   "source": [
    "[![Open In Colab](https://colab.research.google.com/assets/colab-badge.svg)](https://colab.research.google.com/github/rndsrc/lma/blob/main/notes.ipynb)"
   ]
  },
  {
   "cell_type": "markdown",
   "id": "1",
   "metadata": {},
   "source": [
    "# Linear Mode Analysis"
   ]
  },
  {
   "cell_type": "markdown",
   "id": "2",
   "metadata": {},
   "source": [
    "Linear mode analysis (LMA) linearizes system of non-linear equations, including PDEs, to enable study of their stability properties."
   ]
  },
  {
   "cell_type": "markdown",
   "id": "3",
   "metadata": {},
   "source": [
    "## Linearized Equations \n",
    "\n",
    "For a system of $n$ dynamic PDEs and $l$ constrain PDEs, the linearized equations take a form:\n",
    "\\begin{align}\n",
    "  \\partial_t\\,\\boldsymbol{\\delta}^*(t, \\boldsymbol{x}) = \\boldsymbol{L}(t, \\boldsymbol{x}, \\boldsymbol\\nabla)\\,\\boldsymbol{\\delta}(t, \\boldsymbol{x})\n",
    "\\end{align}\n",
    "where perturbation $\\boldsymbol{\\delta}$ is an $n$-dimensional vector\n",
    "\\begin{align}\n",
    "  \\boldsymbol{\\delta} = \n",
    "  \\begin{bmatrix}\n",
    "  \\delta_1(t, \\boldsymbol{x}) \\\\ \\delta_2(t, \\boldsymbol{x}) \\\\ \\vdots \\\\ \\delta_n(t, \\boldsymbol{x})\n",
    "  \\end{bmatrix},\n",
    "\\end{align}\n",
    "$\\boldsymbol{\\delta}^*$ is an $n+l$-dimensional vector with $\\boldsymbol{\\delta}$ appended by $l$ zeros, and $\\boldsymbol{L}$ is an $(n+l)\\times n$ matrix."
   ]
  },
  {
   "cell_type": "markdown",
   "id": "4",
   "metadata": {},
   "source": [
    "The matrix $\\boldsymbol{L}$ dependence on $\\boldsymbol\\nabla$ indicate that it may contain partial derivatives of the spatial coordinates on the perturbation.\n",
    "It may contian partial derivatives of the background too, e.g., $\\boldsymbol\\nabla\\boldsymbol{U}$.\n",
    "However, these terms are fixed as we do the perturbation analysis, and are represented by the $\\boldsymbol{x}$ dependence."
   ]
  },
  {
   "cell_type": "markdown",
   "id": "5",
   "metadata": {},
   "source": [
    "## Stability Analysis\n",
    "\n",
    "When $\\boldsymbol{L}$ is independent of time $t$ (e.g., by considering a steady state background solution), one can decompose the perturbation $\\boldsymbol{\\delta}$ into Fourier series:\n",
    "\\begin{align}\n",
    "  \\partial_t\\,\\boldsymbol{\\delta}(t, \\boldsymbol{x}) = \\sum_\\omega \\boldsymbol{\\hat\\delta}_\\omega(\\boldsymbol{x}) \\exp(i\\omega t)\n",
    "\\end{align}\n",
    "It is useful to also define $\\gamma \\equiv i\\omega$ so that the linearized equations become\n",
    "\\begin{align}\n",
    "  \\gamma\\,\\boldsymbol{\\hat\\delta}^*_\\gamma(\\boldsymbol{x}) = \\boldsymbol{L}(\\boldsymbol{x}, \\boldsymbol\\nabla)\\,\\boldsymbol{\\hat\\delta}_\\gamma(\\boldsymbol{x})\n",
    "\\end{align}"
   ]
  },
  {
   "cell_type": "markdown",
   "id": "6",
   "metadata": {},
   "source": [
    "If $l=0$, this is a standard eigenvalue problem that can be solved by $\\det(\\boldsymbol{L} - \\gamma \\boldsymbol{1}) = 0$.\n",
    "Because the determinant is an $n$-order polynomial in $\\gamma$, i.e.,\n",
    "\\begin{align}\n",
    "  \\det(\\boldsymbol{L} - \\gamma \\boldsymbol{1}) = P^n(\\gamma) = \\sum_{j=1}^n C_j(\\boldsymbol{x}, \\boldsymbol\\nabla) \\gamma^j\n",
    "\\end{align}\n",
    "there are $n$ (complex) roots, corresponding to unstable (if at least one of the eigenvalues $\\gamma_j$ is real and positive), overstable ($\\gamma_j$ is complex with positive real part), and stable (no eigenvalue has positive real part) modes."
   ]
  },
  {
   "cell_type": "markdown",
   "id": "7",
   "metadata": {},
   "source": [
    "For $l > 0$, we expect the constrain equations can be used to eliminate $l$ dynamic PDEs.\n",
    "Hence, we expect there are $n-l$ roots.\n",
    "\n",
    "**[CK: can we formulate this with singular value decomposition?]**"
   ]
  },
  {
   "cell_type": "markdown",
   "id": "8",
   "metadata": {},
   "source": [
    "Clearly, if $\\boldsymbol{L}$ depends on time $t$, the above Fourier decomposition no longer provides such a simple form.\n",
    "There are two options:\n",
    "1. Keep using simple basis function such as $\\exp(i\\omega t)$ but consider a non-diagonal $\\boldsymbol{\\hat L}$.\n",
    "   This implies there will be \"mode-to-mode coupling\".\n",
    "2. Solve proper basis in time so each mode still evolve independently from each other.\n",
    "   \n",
    "These two methods are mathematically the same, although numerically 1. may be easier."
   ]
  },
  {
   "cell_type": "markdown",
   "id": "9",
   "metadata": {},
   "source": [
    "## Symmetry of the Background\n",
    "\n",
    "In addition to consider steady state background solution, there may be other symmetry that reduces the dependencies of $\\boldsymbol{L}$ on spatial coordinates.\n",
    "For example, in spherical symmetric systems, one may remove $\\phi$- and $\\theta$-dependencies so $\\boldsymbol{L}(\\boldsymbol{x}, \\boldsymbol\\nabla) = \\boldsymbol{L}(r, \\boldsymbol\\nabla)$;\n",
    "in plane-parallel atmosphere, one may remove $x$- and $y$-dependencies so $\\boldsymbol{L}(\\boldsymbol{x}, \\boldsymbol\\nabla) = \\boldsymbol{L}(z, \\boldsymbol\\nabla)$."
   ]
  },
  {
   "cell_type": "markdown",
   "id": "10",
   "metadata": {},
   "source": [
    "In these cases, it is useful to borrow the concept from Noether's theorem and define \"conserved momenta\" as $\\boldsymbol\\nabla_{\\!\\text{c}}$ where $\\boldsymbol\\nabla_{\\!\\text{c}} L(\\boldsymbol{x}, \\boldsymbol\\nabla) = 0$.\n",
    "The linear operator can be rewritten as $L(\\boldsymbol{x}_\\text{d}, \\boldsymbol\\nabla_{\\!\\text{d}}, \\boldsymbol\\nabla_{\\!\\text{c}})$.\n",
    "We can then decompose the perturbation $\\boldsymbol{\\hat\\delta}_\\gamma(\\boldsymbol{x})$ into eigenmodes of $\\boldsymbol\\nabla_{\\!\\text{c}})$, i.e,\n",
    "\\begin{align}\n",
    "  \\boldsymbol{\\hat\\delta}_\\gamma(\\boldsymbol{x}) = \\sum_{\\boldsymbol{k}} \\boldsymbol{\\hat\\delta}_{\\gamma\\boldsymbol{k}}(\\boldsymbol{x}_\\text{d})\\,\\psi_{\\boldsymbol{k}}(\\boldsymbol{x}_\\text{c}).\n",
    "\\end{align}"
   ]
  },
  {
   "cell_type": "markdown",
   "id": "11",
   "metadata": {},
   "source": [
    "The perturbation equations become:\n",
    "\\begin{align}\n",
    "  \\gamma\\,\\boldsymbol{\\hat\\delta^*}_{\\gamma\\boldsymbol{k}}(\\boldsymbol{x}) = \\boldsymbol{L}_\\boldsymbol{k}(\\boldsymbol{x}_\\text{d}, \\boldsymbol\\nabla_{\\!\\text{d}})\\,\\boldsymbol{\\hat\\delta}_{\\gamma\\boldsymbol{k}}(\\boldsymbol{x})\n",
    "\\end{align}\n",
    "\n",
    "This is the best simplification we can do.\n",
    "For solving $\\boldsymbol{x}_\\text{d}$ dependence, one may follow the two strategies mentioned for the time-dependent system.\n",
    "In fact, the time-independent case is nothing but a special case in symmetrey!"
   ]
  }
 ],
 "metadata": {
  "kernelspec": {
   "display_name": "Python 3 (ipykernel)",
   "language": "python",
   "name": "python3"
  },
  "language_info": {
   "codemirror_mode": {
    "name": "ipython",
    "version": 3
   },
   "file_extension": ".py",
   "mimetype": "text/x-python",
   "name": "python",
   "nbconvert_exporter": "python",
   "pygments_lexer": "ipython3",
   "version": "3.13.2"
  }
 },
 "nbformat": 4,
 "nbformat_minor": 5
}
