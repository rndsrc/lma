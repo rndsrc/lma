{
 "cells": [
  {
   "cell_type": "markdown",
   "id": "0",
   "metadata": {},
   "source": [
    "[![Open In Colab](https://colab.research.google.com/assets/colab-badge.svg)](https://colab.research.google.com/github/rndsrc/lma/blob/main/notes.ipynb)"
   ]
  },
  {
   "cell_type": "markdown",
   "id": "1",
   "metadata": {},
   "source": [
    "# Linear Mode Analysis"
   ]
  },
  {
   "cell_type": "markdown",
   "id": "2",
   "metadata": {},
   "source": [
    "Linear mode analysis (LMA) linearizes system of non-linear equations, including PDEs, to enable study of their stability properties.\n",
    "\n",
    "For a system of $n$ PDEs, the linearized equations take a form:\n",
    "\\begin{align}\n",
    "  \\partial_t\\,\\boldsymbol{\\delta}(t, \\boldsymbol{x}) = \\boldsymbol{L}(t, \\boldsymbol{x}, \\boldsymbol\\nabla)\\,\\boldsymbol{\\delta}(t, \\boldsymbol{x})\n",
    "\\end{align}\n",
    "where $\\boldsymbol{\\delta}$ is an $n$-dimensional vector\n",
    "\\begin{align}\n",
    "  \\boldsymbol{\\delta} = \n",
    "  \\begin{bmatrix}\n",
    "  \\delta_1(t, \\boldsymbol{x}) \\\\ \\delta_2(t, \\boldsymbol{x}) \\\\ \\vdots \\\\ \\delta_n(t, \\boldsymbol{x})\n",
    "  \\end{bmatrix}\n",
    "\\end{align}\n",
    "and $\\boldsymbol{L}$ is an $n\\times n$ matrix.\n",
    "Its dependence on $\\boldsymbol\\nabla$ indicate that it may contain partial derivatives of the spatial coordinates."
   ]
  }
 ],
 "metadata": {
  "kernelspec": {
   "display_name": "Python 3 (ipykernel)",
   "language": "python",
   "name": "python3"
  },
  "language_info": {
   "codemirror_mode": {
    "name": "ipython",
    "version": 3
   },
   "file_extension": ".py",
   "mimetype": "text/x-python",
   "name": "python",
   "nbconvert_exporter": "python",
   "pygments_lexer": "ipython3",
   "version": "3.13.2"
  }
 },
 "nbformat": 4,
 "nbformat_minor": 5
}
