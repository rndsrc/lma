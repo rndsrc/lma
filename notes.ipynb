{
 "cells": [
  {
   "cell_type": "markdown",
   "id": "0",
   "metadata": {},
   "source": [
    "[![Open In Colab](https://colab.research.google.com/assets/colab-badge.svg)](https://colab.research.google.com/github/rndsrc/lma/blob/main/notes.ipynb)"
   ]
  },
  {
   "cell_type": "markdown",
   "id": "1",
   "metadata": {},
   "source": [
    "# Linear Mode Analysis"
   ]
  },
  {
   "cell_type": "markdown",
   "id": "2",
   "metadata": {},
   "source": [
    "Linear mode analysis (LMA) linearizes system of non-linear equations, including PDEs, to enable study of their stability properties.\n",
    "\n",
    "For a system of $n$ PDEs, the linearized equations take a form:\n",
    "\\begin{align}\n",
    "  \\partial_t\\,\\boldsymbol{\\delta}(t, \\boldsymbol{x}) = \\boldsymbol{L}(t, \\boldsymbol{x}, \\boldsymbol\\nabla)\\,\\boldsymbol{\\delta}(t, \\boldsymbol{x})\n",
    "\\end{align}\n",
    "where perturbation $\\boldsymbol{\\delta}$ is an $n$-dimensional vector\n",
    "\\begin{align}\n",
    "  \\boldsymbol{\\delta} = \n",
    "  \\begin{bmatrix}\n",
    "  \\delta_1(t, \\boldsymbol{x}) \\\\ \\delta_2(t, \\boldsymbol{x}) \\\\ \\vdots \\\\ \\delta_n(t, \\boldsymbol{x})\n",
    "  \\end{bmatrix}\n",
    "\\end{align}\n",
    "and $\\boldsymbol{L}$ is an $n\\times n$ matrix.\n",
    "Its dependence on $\\boldsymbol\\nabla$ indicate that it may contain partial derivatives of the spatial coordinates."
   ]
  },
  {
   "cell_type": "markdown",
   "id": "3",
   "metadata": {},
   "source": [
    "When $\\boldsymbol{L}$ is independent of time $t$, one can decompose the perturbation $\\boldsymbol{\\delta}$ into Fourier series:\n",
    "\\begin{align}\n",
    "  \\partial_t\\,\\boldsymbol{\\delta}(t, \\boldsymbol{x}) = \\sum_\\omega \\boldsymbol{\\hat\\delta}_\\omega(\\boldsymbol{x}) \\exp(i\\omega t)\n",
    "\\end{align}\n",
    "It is useful to also define $\\gamma \\equiv i\\omega$ so that the linearized equations become\n",
    "\\begin{align}\n",
    "  \\gamma\\,\\boldsymbol{\\hat\\delta}_\\gamma(\\boldsymbol{x}) = \\boldsymbol{L}(\\boldsymbol{x}, \\boldsymbol\\nabla)\\,\\boldsymbol{\\hat\\delta}_\\gamma(\\boldsymbol{x})\n",
    "\\end{align}"
   ]
  },
  {
   "cell_type": "markdown",
   "id": "4",
   "metadata": {},
   "source": [
    "Clearly, this is an eigenvalue problem that can be solved by\n",
    "\\begin{align}\n",
    "  \\det(\\boldsymbol{L} - \\gamma \\boldsymbol{1}) = 0.\n",
    "\\end{align}\n",
    "Because $\\det(\\boldsymbol{L} - \\gamma \\boldsymbol{1})$ is an $n$-order polynomial in $\\gamma$, there are $n$ (complex) roots, corresponding to unstable (if one of the eigenvalues $\\gamma_i$ is real and positive), overstable ($\\gamma_i$ is complex with positive real part), and stable (no eigenvalue has positive real part)."
   ]
  }
 ],
 "metadata": {
  "kernelspec": {
   "display_name": "Python 3 (ipykernel)",
   "language": "python",
   "name": "python3"
  },
  "language_info": {
   "codemirror_mode": {
    "name": "ipython",
    "version": 3
   },
   "file_extension": ".py",
   "mimetype": "text/x-python",
   "name": "python",
   "nbconvert_exporter": "python",
   "pygments_lexer": "ipython3",
   "version": "3.13.2"
  }
 },
 "nbformat": 4,
 "nbformat_minor": 5
}
